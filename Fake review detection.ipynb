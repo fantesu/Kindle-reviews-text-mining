{
 "cells": [
  {
   "cell_type": "markdown",
   "id": "69604778",
   "metadata": {},
   "source": [
    "#  First topic: How to define the possible fake reviews"
   ]
  },
  {
   "cell_type": "markdown",
   "id": "5fd39940",
   "metadata": {},
   "source": [
    "Pre-defined feature one: One person give more than "
   ]
  },
  {
   "cell_type": "code",
   "execution_count": null,
   "id": "815a005e",
   "metadata": {},
   "outputs": [],
   "source": [
    "Using dataframe processing way to find these person"
   ]
  },
  {
   "cell_type": "code",
   "execution_count": 52,
   "id": "ecb3efd7",
   "metadata": {},
   "outputs": [],
   "source": [
    "#import prepared dataset \n",
    "import pandas as pd  \n",
    "import numpy as np\n",
    "import matplotlib.pyplot as plt\n",
    "df_final = pd.read_csv('final_review.csv',index_col=[0])"
   ]
  },
  {
   "cell_type": "code",
   "execution_count": 53,
   "id": "7b35780c",
   "metadata": {},
   "outputs": [
    {
     "data": {
      "text/html": [
       "<div>\n",
       "<style scoped>\n",
       "    .dataframe tbody tr th:only-of-type {\n",
       "        vertical-align: middle;\n",
       "    }\n",
       "\n",
       "    .dataframe tbody tr th {\n",
       "        vertical-align: top;\n",
       "    }\n",
       "\n",
       "    .dataframe thead th {\n",
       "        text-align: right;\n",
       "    }\n",
       "</style>\n",
       "<table border=\"1\" class=\"dataframe\">\n",
       "  <thead>\n",
       "    <tr style=\"text-align: right;\">\n",
       "      <th></th>\n",
       "      <th>reviewerID</th>\n",
       "      <th>index</th>\n",
       "      <th>overall</th>\n",
       "      <th>unixReviewTime</th>\n",
       "      <th>review_word_count</th>\n",
       "      <th>multipleReviews_reviewer</th>\n",
       "      <th>reviewer_five_star_only</th>\n",
       "      <th>reviewer_one_star_only</th>\n",
       "      <th>numReviews_product</th>\n",
       "      <th>1st</th>\n",
       "      <th>...</th>\n",
       "      <th>yes</th>\n",
       "      <th>yet</th>\n",
       "      <th>york</th>\n",
       "      <th>young</th>\n",
       "      <th>youth</th>\n",
       "      <th>yummy</th>\n",
       "      <th>zane</th>\n",
       "      <th>zombie</th>\n",
       "      <th>zone</th>\n",
       "      <th>zsadist</th>\n",
       "    </tr>\n",
       "  </thead>\n",
       "  <tbody>\n",
       "    <tr>\n",
       "      <th>0</th>\n",
       "      <td>A1F6404F1VG29J</td>\n",
       "      <td>0.0000</td>\n",
       "      <td>1.00</td>\n",
       "      <td>0.986602</td>\n",
       "      <td>0.024130</td>\n",
       "      <td>0.0</td>\n",
       "      <td>1.0</td>\n",
       "      <td>0.0</td>\n",
       "      <td>0.063636</td>\n",
       "      <td>0</td>\n",
       "      <td>...</td>\n",
       "      <td>0</td>\n",
       "      <td>0</td>\n",
       "      <td>0</td>\n",
       "      <td>0</td>\n",
       "      <td>0</td>\n",
       "      <td>0</td>\n",
       "      <td>0</td>\n",
       "      <td>0</td>\n",
       "      <td>0</td>\n",
       "      <td>0</td>\n",
       "    </tr>\n",
       "    <tr>\n",
       "      <th>1</th>\n",
       "      <td>AN0N05A9LIJEQ</td>\n",
       "      <td>0.0001</td>\n",
       "      <td>0.75</td>\n",
       "      <td>0.963495</td>\n",
       "      <td>0.036659</td>\n",
       "      <td>1.0</td>\n",
       "      <td>0.0</td>\n",
       "      <td>0.0</td>\n",
       "      <td>0.063636</td>\n",
       "      <td>0</td>\n",
       "      <td>...</td>\n",
       "      <td>0</td>\n",
       "      <td>0</td>\n",
       "      <td>0</td>\n",
       "      <td>0</td>\n",
       "      <td>0</td>\n",
       "      <td>0</td>\n",
       "      <td>0</td>\n",
       "      <td>0</td>\n",
       "      <td>0</td>\n",
       "      <td>0</td>\n",
       "    </tr>\n",
       "    <tr>\n",
       "      <th>2</th>\n",
       "      <td>A795DMNCJILA6</td>\n",
       "      <td>0.0002</td>\n",
       "      <td>0.75</td>\n",
       "      <td>0.980583</td>\n",
       "      <td>0.028306</td>\n",
       "      <td>0.0</td>\n",
       "      <td>0.0</td>\n",
       "      <td>0.0</td>\n",
       "      <td>0.063636</td>\n",
       "      <td>0</td>\n",
       "      <td>...</td>\n",
       "      <td>0</td>\n",
       "      <td>0</td>\n",
       "      <td>0</td>\n",
       "      <td>0</td>\n",
       "      <td>0</td>\n",
       "      <td>0</td>\n",
       "      <td>0</td>\n",
       "      <td>0</td>\n",
       "      <td>0</td>\n",
       "      <td>0</td>\n",
       "    </tr>\n",
       "    <tr>\n",
       "      <th>3</th>\n",
       "      <td>A1FV0SX13TWVXQ</td>\n",
       "      <td>0.0003</td>\n",
       "      <td>1.00</td>\n",
       "      <td>0.972039</td>\n",
       "      <td>0.008817</td>\n",
       "      <td>1.0</td>\n",
       "      <td>0.0</td>\n",
       "      <td>0.0</td>\n",
       "      <td>0.063636</td>\n",
       "      <td>0</td>\n",
       "      <td>...</td>\n",
       "      <td>0</td>\n",
       "      <td>0</td>\n",
       "      <td>0</td>\n",
       "      <td>0</td>\n",
       "      <td>0</td>\n",
       "      <td>0</td>\n",
       "      <td>0</td>\n",
       "      <td>0</td>\n",
       "      <td>0</td>\n",
       "      <td>0</td>\n",
       "    </tr>\n",
       "    <tr>\n",
       "      <th>4</th>\n",
       "      <td>A3SPTOKDG7WBLN</td>\n",
       "      <td>0.0004</td>\n",
       "      <td>0.75</td>\n",
       "      <td>0.977476</td>\n",
       "      <td>0.010673</td>\n",
       "      <td>0.0</td>\n",
       "      <td>0.0</td>\n",
       "      <td>0.0</td>\n",
       "      <td>0.063636</td>\n",
       "      <td>0</td>\n",
       "      <td>...</td>\n",
       "      <td>0</td>\n",
       "      <td>0</td>\n",
       "      <td>0</td>\n",
       "      <td>0</td>\n",
       "      <td>0</td>\n",
       "      <td>0</td>\n",
       "      <td>0</td>\n",
       "      <td>0</td>\n",
       "      <td>0</td>\n",
       "      <td>0</td>\n",
       "    </tr>\n",
       "  </tbody>\n",
       "</table>\n",
       "<p>5 rows × 3009 columns</p>\n",
       "</div>"
      ],
      "text/plain": [
       "       reviewerID   index  overall  unixReviewTime  review_word_count  \\\n",
       "0  A1F6404F1VG29J  0.0000     1.00        0.986602           0.024130   \n",
       "1   AN0N05A9LIJEQ  0.0001     0.75        0.963495           0.036659   \n",
       "2   A795DMNCJILA6  0.0002     0.75        0.980583           0.028306   \n",
       "3  A1FV0SX13TWVXQ  0.0003     1.00        0.972039           0.008817   \n",
       "4  A3SPTOKDG7WBLN  0.0004     0.75        0.977476           0.010673   \n",
       "\n",
       "   multipleReviews_reviewer  reviewer_five_star_only  reviewer_one_star_only  \\\n",
       "0                       0.0                      1.0                     0.0   \n",
       "1                       1.0                      0.0                     0.0   \n",
       "2                       0.0                      0.0                     0.0   \n",
       "3                       1.0                      0.0                     0.0   \n",
       "4                       0.0                      0.0                     0.0   \n",
       "\n",
       "   numReviews_product  1st  ...  yes  yet  york  young  youth  yummy  zane  \\\n",
       "0            0.063636    0  ...    0    0     0      0      0      0     0   \n",
       "1            0.063636    0  ...    0    0     0      0      0      0     0   \n",
       "2            0.063636    0  ...    0    0     0      0      0      0     0   \n",
       "3            0.063636    0  ...    0    0     0      0      0      0     0   \n",
       "4            0.063636    0  ...    0    0     0      0      0      0     0   \n",
       "\n",
       "   zombie  zone  zsadist  \n",
       "0       0     0        0  \n",
       "1       0     0        0  \n",
       "2       0     0        0  \n",
       "3       0     0        0  \n",
       "4       0     0        0  \n",
       "\n",
       "[5 rows x 3009 columns]"
      ]
     },
     "execution_count": 53,
     "metadata": {},
     "output_type": "execute_result"
    }
   ],
   "source": [
    "df_final.head()"
   ]
  },
  {
   "cell_type": "code",
   "execution_count": 54,
   "id": "3473d08a",
   "metadata": {},
   "outputs": [
    {
     "data": {
      "text/html": [
       "<div>\n",
       "<style scoped>\n",
       "    .dataframe tbody tr th:only-of-type {\n",
       "        vertical-align: middle;\n",
       "    }\n",
       "\n",
       "    .dataframe tbody tr th {\n",
       "        vertical-align: top;\n",
       "    }\n",
       "\n",
       "    .dataframe thead th {\n",
       "        text-align: right;\n",
       "    }\n",
       "</style>\n",
       "<table border=\"1\" class=\"dataframe\">\n",
       "  <thead>\n",
       "    <tr style=\"text-align: right;\">\n",
       "      <th></th>\n",
       "      <th>unixReviewTime</th>\n",
       "    </tr>\n",
       "    <tr>\n",
       "      <th>reviewerID</th>\n",
       "      <th></th>\n",
       "    </tr>\n",
       "  </thead>\n",
       "  <tbody>\n",
       "    <tr>\n",
       "      <th>A0089401235VSN3Z6F3HK</th>\n",
       "      <td>[0.9809708737864078]</td>\n",
       "    </tr>\n",
       "    <tr>\n",
       "      <th>A0090953K7LNUG6UPMI6</th>\n",
       "      <td>[0.9349514563106798]</td>\n",
       "    </tr>\n",
       "    <tr>\n",
       "      <th>A0099735VDZ3HDCAAYKL</th>\n",
       "      <td>[0.9481553398058252, 0.9829126213592234, 0.947...</td>\n",
       "    </tr>\n",
       "    <tr>\n",
       "      <th>A025153932FWH3GPV46I1</th>\n",
       "      <td>[0.958252427184466]</td>\n",
       "    </tr>\n",
       "    <tr>\n",
       "      <th>A026598010DVEJLSZ7H2U</th>\n",
       "      <td>[0.8799999999999999, 0.918252427184466]</td>\n",
       "    </tr>\n",
       "  </tbody>\n",
       "</table>\n",
       "</div>"
      ],
      "text/plain": [
       "                                                          unixReviewTime\n",
       "reviewerID                                                              \n",
       "A0089401235VSN3Z6F3HK                               [0.9809708737864078]\n",
       "A0090953K7LNUG6UPMI6                                [0.9349514563106798]\n",
       "A0099735VDZ3HDCAAYKL   [0.9481553398058252, 0.9829126213592234, 0.947...\n",
       "A025153932FWH3GPV46I1                                [0.958252427184466]\n",
       "A026598010DVEJLSZ7H2U            [0.8799999999999999, 0.918252427184466]"
      ]
     },
     "execution_count": 54,
     "metadata": {},
     "output_type": "execute_result"
    }
   ],
   "source": [
    "#find all review time of each review and each reviewers using group by\n",
    "result=df_final.groupby(\"reviewerID\")['unixReviewTime'].apply(list)\n",
    "result=pd.DataFrame(result)\n",
    "result.head()"
   ]
  },
  {
   "cell_type": "code",
   "execution_count": 55,
   "id": "61e9cf88",
   "metadata": {},
   "outputs": [],
   "source": [
    "#find all reviewers give more than one reviews\n",
    "result_duplicated=result.loc[result.unixReviewTime.str.len() > 1].reset_index()"
   ]
  },
  {
   "cell_type": "code",
   "execution_count": 56,
   "id": "bc90f230",
   "metadata": {},
   "outputs": [],
   "source": [
    "result_duplicated.set_index('reviewerID',inplace=True)"
   ]
  },
  {
   "cell_type": "code",
   "execution_count": 57,
   "id": "33344bea",
   "metadata": {},
   "outputs": [],
   "source": [
    "#find reviewers who get reviews at the same time \n",
    "same_day_duplicated=result_duplicated[result_duplicated['unixReviewTime'].duplicated()]"
   ]
  },
  {
   "cell_type": "code",
   "execution_count": 58,
   "id": "892c4b6f",
   "metadata": {},
   "outputs": [
    {
     "name": "stdout",
     "output_type": "stream",
     "text": [
      "41\n"
     ]
    }
   ],
   "source": [
    "#print out total possible fake reviews\n",
    "total_fake_reviews=0\n",
    "for i in range(0,same_day_duplicated.shape[0]):\n",
    "    for asin in same_day_duplicated[\"unixReviewTime\"][i]:\n",
    "        total_fake_reviews+=1\n",
    "\n",
    "print(total_fake_reviews)"
   ]
  },
  {
   "cell_type": "code",
   "execution_count": 59,
   "id": "b484a0de",
   "metadata": {},
   "outputs": [
    {
     "name": "stdout",
     "output_type": "stream",
     "text": [
      "A1A5DPK0C28BF2\n",
      "A1BQJ1WF16UH5F\n",
      "A23LX12CA3G4FG\n",
      "A25CSYWBUTQ81H\n",
      "A29M98YXX51GBS\n",
      "A2DYPNCDBTEL8B\n",
      "A2X94A68U1JTUW\n",
      "A2Y1X56N8NPH8G\n",
      "A341QXB22BZYYA\n",
      "A3APMEXZ0N3NMP\n",
      "A3CPQ7V88MDVYU\n",
      "A3HROOSHQD2QTK\n",
      "A3P44N4J5KBL8D\n",
      "A3T8OJ0S8P7MRS\n",
      "AF5LQ8IWZ2W21\n",
      "ALRH7EYOMZ5RH\n",
      "AV0Q4DUX3IYNA\n",
      "AVY3HBMTEOP9F\n",
      "AW1IDDQAWZST9\n",
      "AWIT5CO5HON2I\n"
     ]
    }
   ],
   "source": [
    "#print out total possible fake reviewers\n",
    "reviewer_list=same_day_duplicated.index.tolist()\n",
    "total_fake_reviewers=0\n",
    "for reviewers in reviewer_list:\n",
    "    total_fake_reviewers+=1\n",
    "    print(reviewers)    "
   ]
  },
  {
   "cell_type": "code",
   "execution_count": 60,
   "id": "8df8584d",
   "metadata": {},
   "outputs": [
    {
     "name": "stdout",
     "output_type": "stream",
     "text": [
      "20\n"
     ]
    }
   ],
   "source": [
    "#count of possible fake reviewers\n",
    "print(total_fake_reviewers)"
   ]
  },
  {
   "cell_type": "code",
   "execution_count": null,
   "id": "30bcdf89",
   "metadata": {},
   "outputs": [],
   "source": []
  },
  {
   "cell_type": "markdown",
   "id": "7b8d22db",
   "metadata": {},
   "source": [
    "Other two pre-defined fake reviews features:\n",
    "    1: Extremely high or low rating.\n",
    "    2: Extremely short reviews"
   ]
  },
  {
   "cell_type": "code",
   "execution_count": null,
   "id": "2a5f532f",
   "metadata": {},
   "outputs": [],
   "source": [
    "Using K-Means clustering algorithmn to split dataset into several clusters"
   ]
  },
  {
   "cell_type": "code",
   "execution_count": null,
   "id": "71f004f7",
   "metadata": {},
   "outputs": [],
   "source": [
    "Try to find one cluster than has the all features or one features that defined above."
   ]
  },
  {
   "cell_type": "code",
   "execution_count": null,
   "id": "f101745e",
   "metadata": {},
   "outputs": [],
   "source": []
  },
  {
   "cell_type": "markdown",
   "id": "88f7fd2e",
   "metadata": {},
   "source": [
    "1. Before usikng kmeans I try to use PCA to reduce dimensions again."
   ]
  },
  {
   "cell_type": "code",
   "execution_count": 69,
   "id": "da02d809",
   "metadata": {},
   "outputs": [],
   "source": [
    "# import PCA\n",
    "from sklearn.decomposition import PCA"
   ]
  },
  {
   "cell_type": "code",
   "execution_count": 70,
   "id": "0b349da3",
   "metadata": {},
   "outputs": [],
   "source": [
    "#drop reviewerID here, since PCA need have float type\n",
    "df_pca=df_final.drop('reviewerID', axis=1)"
   ]
  },
  {
   "cell_type": "code",
   "execution_count": 76,
   "id": "5076e6f8",
   "metadata": {},
   "outputs": [],
   "source": [
    "# fisrt assume pca components is 700\n",
    "pca = PCA(n_components=700)\n",
    "pca_matrix = pca.fit_transform(df_pca)"
   ]
  },
  {
   "cell_type": "code",
   "execution_count": 78,
   "id": "8c1a7283",
   "metadata": {},
   "outputs": [
    {
     "data": {
      "image/png": "[encoded data removed]",
      "text/plain": [
       "<Figure size 1080x432 with 1 Axes>"
      ]
     },
     "metadata": {
      "needs_background": "light"
     },
     "output_type": "display_data"
    }
   ],
   "source": [
    "# Plot the cumulative sum of explained variances\n",
    "plt.figure(figsize=(15,6))\n",
    "plt.plot(range(700), pca.explained_variance_ratio_.cumsum()[0:700])\n",
    "plt.xlabel('PCA features')\n",
    "plt.ylabel('cumulative sum of explained variance %')\n",
    "plt.xticks(range(0,701,25))\n",
    "plt.title('Cumulative Sum of Explained variance % of Principal Components')\n",
    "plt.show()"
   ]
  },
  {
   "cell_type": "code",
   "execution_count": 80,
   "id": "7b1eb6a2",
   "metadata": {},
   "outputs": [
    {
     "data": {
      "text/plain": [
       "0.7920647137831879"
      ]
     },
     "execution_count": 80,
     "metadata": {},
     "output_type": "execute_result"
    }
   ],
   "source": [
    "#I just want the explained variance closed to 80%. 500 PCA features are good enough.\n",
    "pca.explained_variance_ratio_.cumsum()[500]"
   ]
  },
  {
   "cell_type": "code",
   "execution_count": 81,
   "id": "7bb39df0",
   "metadata": {},
   "outputs": [],
   "source": [
    "#convert to dataframe\n",
    "PCA_components = pd.DataFrame(pca_matrix)"
   ]
  },
  {
   "cell_type": "code",
   "execution_count": null,
   "id": "7e1f8a17",
   "metadata": {},
   "outputs": [],
   "source": []
  },
  {
   "cell_type": "markdown",
   "id": "02e35eb4",
   "metadata": {},
   "source": [
    "2. Use Kmeans and elbow method to find optimal K vale"
   ]
  },
  {
   "cell_type": "code",
   "execution_count": 83,
   "id": "d8e17cd2",
   "metadata": {},
   "outputs": [
    {
     "data": {
      "image/png": "[encoded data removed]",
      "text/plain": [
       "<Figure size 432x288 with 1 Axes>"
      ]
     },
     "metadata": {
      "needs_background": "light"
     },
     "output_type": "display_data"
    }
   ],
   "source": [
    "#elbow way to find optimal k value\n",
    "#plot the SSE of K from 1 to 30\n",
    "\n",
    "from sklearn.cluster import KMeans\n",
    "cluterNum=[]\n",
    "SSE = []\n",
    "for i in range(1, 30):\n",
    "    KM = KMeans(n_clusters=i, random_state=10)\n",
    "    KM.fit(PCA_components.iloc[:,0:500])\n",
    "    SSE.append(KM.inertia_)\n",
    "    cluterNum.append(i)\n",
    "X = range(1, 30)\n",
    "plt.xlabel('K')\n",
    "plt.ylabel('SSE')\n",
    "plt.plot(X, SSE, 'o-')\n",
    "plt.show()"
   ]
  },
  {
   "cell_type": "code",
   "execution_count": 84,
   "id": "dc7a6a59",
   "metadata": {},
   "outputs": [
    {
     "data": {
      "image/png": "[encoded data removed]",
      "text/plain": [
       "<Figure size 432x432 with 1 Axes>"
      ]
     },
     "metadata": {
      "needs_background": "light"
     },
     "output_type": "display_data"
    },
    {
     "name": "stdout",
     "output_type": "stream",
     "text": [
      "best culster number：7\n"
     ]
    }
   ],
   "source": [
    "#use kneed.KneeLocator \n",
    "import matplotlib.pyplot as plt\n",
    "from matplotlib import style\n",
    "import numpy as np\n",
    "from kneed import KneeLocator\n",
    "\n",
    "magic=KneeLocator(cluterNum,\n",
    "            SSE,\n",
    "            curve='convex',\n",
    "            direction='decreasing',\n",
    "            online=True)\n",
    "BestCluterNum=magic.elbow\n",
    "magic.plot_knee()\n",
    "plt.show()\n",
    "print(\"best culster number：\"+str(BestCluterNum))"
   ]
  },
  {
   "cell_type": "code",
   "execution_count": 85,
   "id": "913d52ea",
   "metadata": {},
   "outputs": [],
   "source": [
    "#train model based on optimal K\n",
    "kmeans = KMeans(n_clusters=BestCluterNum)\n",
    "kmeans = kmeans.fit(PCA_components.iloc[:,0:500])"
   ]
  },
  {
   "cell_type": "code",
   "execution_count": 86,
   "id": "52880f90",
   "metadata": {},
   "outputs": [
    {
     "data": {
      "text/plain": [
       "array([0, 5, 6, ..., 0, 5, 0], dtype=int32)"
      ]
     },
     "execution_count": 86,
     "metadata": {},
     "output_type": "execute_result"
    }
   ],
   "source": [
    "kmeans.labels_"
   ]
  },
  {
   "cell_type": "code",
   "execution_count": 87,
   "id": "a144e194",
   "metadata": {},
   "outputs": [],
   "source": [
    "data_pca_matrix = PCA_components.iloc[:,0:500].to_numpy()\n",
    "pca_feature_matrix = pca.components_[0:500,:]"
   ]
  },
  {
   "cell_type": "code",
   "execution_count": 91,
   "id": "60a5d57f",
   "metadata": {},
   "outputs": [],
   "source": [
    "#convert back to origianl features\n",
    "df_recon = pd.DataFrame(np.matmul(data_pca_matrix,pca_feature_matrix), columns=df_pca.columns)"
   ]
  },
  {
   "cell_type": "code",
   "execution_count": 92,
   "id": "953e6433",
   "metadata": {},
   "outputs": [],
   "source": [
    "df_recon['cluster'] = kmeans.labels_"
   ]
  },
  {
   "cell_type": "code",
   "execution_count": 93,
   "id": "357ded1c",
   "metadata": {},
   "outputs": [
    {
     "data": {
      "text/html": [
       "<div>\n",
       "<style scoped>\n",
       "    .dataframe tbody tr th:only-of-type {\n",
       "        vertical-align: middle;\n",
       "    }\n",
       "\n",
       "    .dataframe tbody tr th {\n",
       "        vertical-align: top;\n",
       "    }\n",
       "\n",
       "    .dataframe thead th {\n",
       "        text-align: right;\n",
       "    }\n",
       "</style>\n",
       "<table border=\"1\" class=\"dataframe\">\n",
       "  <thead>\n",
       "    <tr style=\"text-align: right;\">\n",
       "      <th></th>\n",
       "      <th>index</th>\n",
       "      <th>overall</th>\n",
       "      <th>unixReviewTime</th>\n",
       "      <th>review_word_count</th>\n",
       "      <th>multipleReviews_reviewer</th>\n",
       "      <th>reviewer_five_star_only</th>\n",
       "      <th>reviewer_one_star_only</th>\n",
       "      <th>numReviews_product</th>\n",
       "      <th>1st</th>\n",
       "      <th>2nd</th>\n",
       "      <th>...</th>\n",
       "      <th>yet</th>\n",
       "      <th>york</th>\n",
       "      <th>young</th>\n",
       "      <th>youth</th>\n",
       "      <th>yummy</th>\n",
       "      <th>zane</th>\n",
       "      <th>zombie</th>\n",
       "      <th>zone</th>\n",
       "      <th>zsadist</th>\n",
       "      <th>cluster</th>\n",
       "    </tr>\n",
       "  </thead>\n",
       "  <tbody>\n",
       "    <tr>\n",
       "      <th>0</th>\n",
       "      <td>-0.464507</td>\n",
       "      <td>0.268450</td>\n",
       "      <td>0.038907</td>\n",
       "      <td>-0.020660</td>\n",
       "      <td>-0.513785</td>\n",
       "      <td>0.653326</td>\n",
       "      <td>-0.057139</td>\n",
       "      <td>-0.078711</td>\n",
       "      <td>-0.015305</td>\n",
       "      <td>-0.015947</td>\n",
       "      <td>...</td>\n",
       "      <td>-0.063630</td>\n",
       "      <td>0.004510</td>\n",
       "      <td>-0.040027</td>\n",
       "      <td>-0.016120</td>\n",
       "      <td>-0.003314</td>\n",
       "      <td>0.033889</td>\n",
       "      <td>-0.035077</td>\n",
       "      <td>0.001808</td>\n",
       "      <td>-0.012251</td>\n",
       "      <td>0</td>\n",
       "    </tr>\n",
       "    <tr>\n",
       "      <th>1</th>\n",
       "      <td>-0.508525</td>\n",
       "      <td>-0.040224</td>\n",
       "      <td>0.039228</td>\n",
       "      <td>-0.013502</td>\n",
       "      <td>0.477672</td>\n",
       "      <td>-0.337236</td>\n",
       "      <td>-0.053077</td>\n",
       "      <td>-0.149651</td>\n",
       "      <td>-0.011833</td>\n",
       "      <td>0.010128</td>\n",
       "      <td>...</td>\n",
       "      <td>-0.052662</td>\n",
       "      <td>0.029812</td>\n",
       "      <td>-0.066517</td>\n",
       "      <td>-0.007393</td>\n",
       "      <td>-0.012413</td>\n",
       "      <td>0.024279</td>\n",
       "      <td>-0.049002</td>\n",
       "      <td>0.010696</td>\n",
       "      <td>0.014052</td>\n",
       "      <td>5</td>\n",
       "    </tr>\n",
       "    <tr>\n",
       "      <th>2</th>\n",
       "      <td>-0.491330</td>\n",
       "      <td>-0.037248</td>\n",
       "      <td>0.047577</td>\n",
       "      <td>-0.024462</td>\n",
       "      <td>-0.510330</td>\n",
       "      <td>-0.336912</td>\n",
       "      <td>-0.057022</td>\n",
       "      <td>-0.101878</td>\n",
       "      <td>-0.019785</td>\n",
       "      <td>-0.032545</td>\n",
       "      <td>...</td>\n",
       "      <td>-0.048920</td>\n",
       "      <td>-0.023249</td>\n",
       "      <td>-0.061049</td>\n",
       "      <td>0.001712</td>\n",
       "      <td>-0.004578</td>\n",
       "      <td>0.022931</td>\n",
       "      <td>-0.044294</td>\n",
       "      <td>-0.003024</td>\n",
       "      <td>-0.011180</td>\n",
       "      <td>6</td>\n",
       "    </tr>\n",
       "    <tr>\n",
       "      <th>3</th>\n",
       "      <td>-0.471991</td>\n",
       "      <td>0.125192</td>\n",
       "      <td>0.008920</td>\n",
       "      <td>-0.043922</td>\n",
       "      <td>0.491277</td>\n",
       "      <td>-0.294458</td>\n",
       "      <td>-0.120159</td>\n",
       "      <td>-0.112868</td>\n",
       "      <td>0.007539</td>\n",
       "      <td>-0.000473</td>\n",
       "      <td>...</td>\n",
       "      <td>-0.034812</td>\n",
       "      <td>-0.007032</td>\n",
       "      <td>-0.036057</td>\n",
       "      <td>0.005153</td>\n",
       "      <td>0.000730</td>\n",
       "      <td>-0.001233</td>\n",
       "      <td>0.010206</td>\n",
       "      <td>-0.005025</td>\n",
       "      <td>-0.008564</td>\n",
       "      <td>5</td>\n",
       "    </tr>\n",
       "    <tr>\n",
       "      <th>4</th>\n",
       "      <td>-0.461943</td>\n",
       "      <td>-0.066595</td>\n",
       "      <td>0.054708</td>\n",
       "      <td>-0.036431</td>\n",
       "      <td>-0.493453</td>\n",
       "      <td>-0.321236</td>\n",
       "      <td>-0.045681</td>\n",
       "      <td>-0.081431</td>\n",
       "      <td>0.007742</td>\n",
       "      <td>-0.006409</td>\n",
       "      <td>...</td>\n",
       "      <td>-0.070294</td>\n",
       "      <td>-0.011265</td>\n",
       "      <td>-0.082740</td>\n",
       "      <td>-0.016780</td>\n",
       "      <td>-0.007553</td>\n",
       "      <td>-0.028892</td>\n",
       "      <td>-0.045546</td>\n",
       "      <td>-0.001563</td>\n",
       "      <td>-0.011413</td>\n",
       "      <td>5</td>\n",
       "    </tr>\n",
       "  </tbody>\n",
       "</table>\n",
       "<p>5 rows × 3009 columns</p>\n",
       "</div>"
      ],
      "text/plain": [
       "      index   overall  unixReviewTime  review_word_count  \\\n",
       "0 -0.464507  0.268450        0.038907          -0.020660   \n",
       "1 -0.508525 -0.040224        0.039228          -0.013502   \n",
       "2 -0.491330 -0.037248        0.047577          -0.024462   \n",
       "3 -0.471991  0.125192        0.008920          -0.043922   \n",
       "4 -0.461943 -0.066595        0.054708          -0.036431   \n",
       "\n",
       "   multipleReviews_reviewer  reviewer_five_star_only  reviewer_one_star_only  \\\n",
       "0                 -0.513785                 0.653326               -0.057139   \n",
       "1                  0.477672                -0.337236               -0.053077   \n",
       "2                 -0.510330                -0.336912               -0.057022   \n",
       "3                  0.491277                -0.294458               -0.120159   \n",
       "4                 -0.493453                -0.321236               -0.045681   \n",
       "\n",
       "   numReviews_product       1st       2nd  ...       yet      york     young  \\\n",
       "0           -0.078711 -0.015305 -0.015947  ... -0.063630  0.004510 -0.040027   \n",
       "1           -0.149651 -0.011833  0.010128  ... -0.052662  0.029812 -0.066517   \n",
       "2           -0.101878 -0.019785 -0.032545  ... -0.048920 -0.023249 -0.061049   \n",
       "3           -0.112868  0.007539 -0.000473  ... -0.034812 -0.007032 -0.036057   \n",
       "4           -0.081431  0.007742 -0.006409  ... -0.070294 -0.011265 -0.082740   \n",
       "\n",
       "      youth     yummy      zane    zombie      zone   zsadist  cluster  \n",
       "0 -0.016120 -0.003314  0.033889 -0.035077  0.001808 -0.012251        0  \n",
       "1 -0.007393 -0.012413  0.024279 -0.049002  0.010696  0.014052        5  \n",
       "2  0.001712 -0.004578  0.022931 -0.044294 -0.003024 -0.011180        6  \n",
       "3  0.005153  0.000730 -0.001233  0.010206 -0.005025 -0.008564        5  \n",
       "4 -0.016780 -0.007553 -0.028892 -0.045546 -0.001563 -0.011413        5  \n",
       "\n",
       "[5 rows x 3009 columns]"
      ]
     },
     "execution_count": 93,
     "metadata": {},
     "output_type": "execute_result"
    }
   ],
   "source": [
    "df_recon.head()"
   ]
  },
  {
   "cell_type": "code",
   "execution_count": null,
   "id": "d308f277",
   "metadata": {},
   "outputs": [],
   "source": []
  },
  {
   "cell_type": "markdown",
   "id": "3004783f",
   "metadata": {},
   "source": [
    "3. Find the special features of clusters (based on pre-defined features)"
   ]
  },
  {
   "cell_type": "code",
   "execution_count": 94,
   "id": "59300177",
   "metadata": {},
   "outputs": [],
   "source": [
    "first_clust = list(df_recon.columns[0:8]) + ['cluster']"
   ]
  },
  {
   "cell_type": "code",
   "execution_count": 95,
   "id": "c5c41fba",
   "metadata": {},
   "outputs": [],
   "source": [
    "second_clust = list(df_recon.columns[8:])"
   ]
  },
  {
   "cell_type": "code",
   "execution_count": 99,
   "id": "aed1592b",
   "metadata": {},
   "outputs": [
    {
     "data": {
      "text/plain": [
       "cluster\n",
       "2    0.088976\n",
       "5    0.009894\n",
       "0    0.001740\n",
       "6   -0.031858\n",
       "1   -0.045315\n",
       "4   -0.050472\n",
       "3   -0.074107\n",
       "Name: overall, dtype: float64"
      ]
     },
     "execution_count": 99,
     "metadata": {},
     "output_type": "execute_result"
    }
   ],
   "source": [
    "df_recon.loc[:,first_clust].groupby('cluster').mean().iloc[:,1].sort_values(ascending=False)"
   ]
  },
  {
   "cell_type": "code",
   "execution_count": 100,
   "id": "08d2fbaa",
   "metadata": {
    "scrolled": true
   },
   "outputs": [
    {
     "data": {
      "text/plain": [
       "cluster\n",
       "3    0.251284\n",
       "1    0.136979\n",
       "2    0.104738\n",
       "4    0.055089\n",
       "6    0.005684\n",
       "0   -0.014177\n",
       "5   -0.027601\n",
       "Name: review_word_count, dtype: float64"
      ]
     },
     "execution_count": 100,
     "metadata": {},
     "output_type": "execute_result"
    }
   ],
   "source": [
    "df_recon.loc[:,first_clust].groupby('cluster').mean().iloc[:,3].sort_values(ascending=False)"
   ]
  },
  {
   "cell_type": "code",
   "execution_count": 101,
   "id": "60ce9cb3",
   "metadata": {
    "scrolled": true
   },
   "outputs": [
    {
     "data": {
      "text/plain": [
       "cluster\n",
       "2    0.348097\n",
       "1    0.131930\n",
       "3    0.091999\n",
       "6    0.073782\n",
       "4    0.053200\n",
       "0   -0.047464\n",
       "5   -0.058483\n",
       "Name: multipleReviews_reviewer, dtype: float64"
      ]
     },
     "execution_count": 101,
     "metadata": {},
     "output_type": "execute_result"
    }
   ],
   "source": [
    "df_recon.loc[:,first_clust].groupby('cluster').mean().iloc[:,4].sort_values(ascending=False)"
   ]
  },
  {
   "cell_type": "code",
   "execution_count": 1,
   "id": "f8b1c0d7",
   "metadata": {},
   "outputs": [],
   "source": [
    "#From the above calculation. Cluster 2 and 5 are possiblely fake review clusters.\n",
    "#Cluster 2 have extremely high rating and have highest multiply reviews per reviewer.\n",
    "#Cluster 5 have extremey short review words and have somehow high overall ratings."
   ]
  },
  {
   "cell_type": "code",
   "execution_count": null,
   "id": "48f75570",
   "metadata": {},
   "outputs": [],
   "source": []
  }
 ],
 "metadata": {
  "kernelspec": {
   "display_name": "Python 3 (ipykernel)",
   "language": "python",
   "name": "python3"
  },
  "language_info": {
   "codemirror_mode": {
    "name": "ipython",
    "version": 3
   },
   "file_extension": ".py",
   "mimetype": "text/x-python",
   "name": "python",
   "nbconvert_exporter": "python",
   "pygments_lexer": "ipython3",
   "version": "3.7.4"
  }
 },
 "nbformat": 4,
 "nbformat_minor": 5
}
